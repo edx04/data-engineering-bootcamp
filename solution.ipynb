{
 "cells": [
  {
   "cell_type": "markdown",
   "source": [
    "# Exploratory Analysis"
   ],
   "metadata": {}
  },
  {
   "cell_type": "code",
   "execution_count": 1,
   "source": [
    "# import pandas\r\n",
    "import pandas as pd"
   ],
   "outputs": [],
   "metadata": {}
  },
  {
   "cell_type": "code",
   "execution_count": 2,
   "source": [
    "df = pd.read_csv('C:/Users/egst-/Downloads/sample.csv')"
   ],
   "outputs": [],
   "metadata": {}
  },
  {
   "cell_type": "code",
   "execution_count": 3,
   "source": [
    "df.sample(5)"
   ],
   "outputs": [
    {
     "output_type": "execute_result",
     "data": {
      "text/html": [
       "<div>\n",
       "<style scoped>\n",
       "    .dataframe tbody tr th:only-of-type {\n",
       "        vertical-align: middle;\n",
       "    }\n",
       "\n",
       "    .dataframe tbody tr th {\n",
       "        vertical-align: top;\n",
       "    }\n",
       "\n",
       "    .dataframe thead th {\n",
       "        text-align: right;\n",
       "    }\n",
       "</style>\n",
       "<table border=\"1\" class=\"dataframe\">\n",
       "  <thead>\n",
       "    <tr style=\"text-align: right;\">\n",
       "      <th></th>\n",
       "      <th>producto</th>\n",
       "      <th>presentacion</th>\n",
       "      <th>marca</th>\n",
       "      <th>categoria</th>\n",
       "      <th>catalogo</th>\n",
       "      <th>precio</th>\n",
       "      <th>fechaRegistro</th>\n",
       "      <th>cadenaComercial</th>\n",
       "      <th>giro</th>\n",
       "      <th>nombreComercial</th>\n",
       "      <th>direccion</th>\n",
       "      <th>estado</th>\n",
       "      <th>municipio</th>\n",
       "      <th>latitud</th>\n",
       "      <th>longitud</th>\n",
       "    </tr>\n",
       "  </thead>\n",
       "  <tbody>\n",
       "    <tr>\n",
       "      <th>1974</th>\n",
       "      <td>LA VILLITA</td>\n",
       "      <td>1 KG. GRANEL. QUESO OAXACA</td>\n",
       "      <td>S/M</td>\n",
       "      <td>DERIVADOS DE LECHE</td>\n",
       "      <td>BASICOS</td>\n",
       "      <td>96.0</td>\n",
       "      <td>2011-01-10 00:00:00.000</td>\n",
       "      <td>WAL-MART</td>\n",
       "      <td>TIENDA DE AUTOSERVICIO</td>\n",
       "      <td>WAL MART SUCURSAL ECHEGARAY</td>\n",
       "      <td>EMILIANO ZAPATA NO. 7     ENTRE REFORMA Y CUAU...</td>\n",
       "      <td>MÉXICO</td>\n",
       "      <td>NAUCALPAN</td>\n",
       "      <td>19.483909</td>\n",
       "      <td>-99.233180</td>\n",
       "    </tr>\n",
       "    <tr>\n",
       "      <th>1110</th>\n",
       "      <td>RASTRILLOS DESECHABLES</td>\n",
       "      <td>PAQUETE CON 2. PRESTO BARBA. EXCEL</td>\n",
       "      <td>GILLETTE</td>\n",
       "      <td>ARTS. PARA EL CUIDADO PERSONAL</td>\n",
       "      <td>BASICOS</td>\n",
       "      <td>34.0</td>\n",
       "      <td>2011-01-10 00:00:00.000</td>\n",
       "      <td>COMERCIAL MEXICANA</td>\n",
       "      <td>TIENDA DE AUTOSERVICIO</td>\n",
       "      <td>COMERCIAL MEXICANA SUCURSAL INSURGENTES</td>\n",
       "      <td>PERPETUA NO. 35 ESQ. INSURGENTES SUR</td>\n",
       "      <td>DISTRITO FEDERAL</td>\n",
       "      <td>BENITO JUAREZ</td>\n",
       "      <td>19.366903</td>\n",
       "      <td>-99.181344</td>\n",
       "    </tr>\n",
       "    <tr>\n",
       "      <th>232</th>\n",
       "      <td>ELOTE</td>\n",
       "      <td>LATA 220 GR. EN GRANO</td>\n",
       "      <td>HERDEZ</td>\n",
       "      <td>HORTALIZAS FRESCAS</td>\n",
       "      <td>MERCADOS</td>\n",
       "      <td>8.5</td>\n",
       "      <td>2011-01-10 00:00:00.000</td>\n",
       "      <td>COMERCIAL MEXICANA</td>\n",
       "      <td>TIENDA DE AUTOSERVICIO</td>\n",
       "      <td>COMERCIAL MEXICANA SUCURSAL VILLAS DE LA HACIENDA</td>\n",
       "      <td>AV. LAGO DE GUADALUPE S/N ESQ. DE LAS VILLAS</td>\n",
       "      <td>MÉXICO</td>\n",
       "      <td>ATIZAPAN</td>\n",
       "      <td>NaN</td>\n",
       "      <td>NaN</td>\n",
       "    </tr>\n",
       "    <tr>\n",
       "      <th>135</th>\n",
       "      <td>ACEITE</td>\n",
       "      <td>BOTELLA 1 LT. MAIZ</td>\n",
       "      <td>LA GLORIA</td>\n",
       "      <td>ACEITES Y GRASAS VEG. COMESTIBLES</td>\n",
       "      <td>BASICOS</td>\n",
       "      <td>26.1</td>\n",
       "      <td>2011-01-10 00:00:00.000</td>\n",
       "      <td>COMERCIAL MEXICANA</td>\n",
       "      <td>TIENDA DE AUTOSERVICIO</td>\n",
       "      <td>COMERCIAL MEXICANA SUCURSAL VILLAS DE LA HACIENDA</td>\n",
       "      <td>AV. LAGO DE GUADALUPE S/N ESQ. DE LAS VILLAS</td>\n",
       "      <td>MÉXICO</td>\n",
       "      <td>ATIZAPAN</td>\n",
       "      <td>NaN</td>\n",
       "      <td>NaN</td>\n",
       "    </tr>\n",
       "    <tr>\n",
       "      <th>436</th>\n",
       "      <td>CIPROFLOX</td>\n",
       "      <td>CAJA CON 6  CAPSULAS DE  500 MG</td>\n",
       "      <td>LABORATORIOS SENOSIAIN, S.A. DE C.V.</td>\n",
       "      <td>MEDICAMENTOS</td>\n",
       "      <td>MEDICAMENTOS</td>\n",
       "      <td>147.0</td>\n",
       "      <td>2011-01-10 00:00:00.000</td>\n",
       "      <td>COMERCIAL MEXICANA</td>\n",
       "      <td>TIENDA DE AUTOSERVICIO</td>\n",
       "      <td>COMERCIAL MEXICANA SUCURSAL VILLAS DE LA HACIENDA</td>\n",
       "      <td>AV. LAGO DE GUADALUPE S/N ESQ. DE LAS VILLAS</td>\n",
       "      <td>MÉXICO</td>\n",
       "      <td>ATIZAPAN</td>\n",
       "      <td>NaN</td>\n",
       "      <td>NaN</td>\n",
       "    </tr>\n",
       "  </tbody>\n",
       "</table>\n",
       "</div>"
      ],
      "text/plain": [
       "                    producto                        presentacion  \\\n",
       "1974              LA VILLITA          1 KG. GRANEL. QUESO OAXACA   \n",
       "1110  RASTRILLOS DESECHABLES  PAQUETE CON 2. PRESTO BARBA. EXCEL   \n",
       "232                    ELOTE               LATA 220 GR. EN GRANO   \n",
       "135                   ACEITE                  BOTELLA 1 LT. MAIZ   \n",
       "436                CIPROFLOX     CAJA CON 6  CAPSULAS DE  500 MG   \n",
       "\n",
       "                                     marca                          categoria  \\\n",
       "1974                                   S/M                 DERIVADOS DE LECHE   \n",
       "1110                              GILLETTE     ARTS. PARA EL CUIDADO PERSONAL   \n",
       "232                                 HERDEZ                 HORTALIZAS FRESCAS   \n",
       "135                              LA GLORIA  ACEITES Y GRASAS VEG. COMESTIBLES   \n",
       "436   LABORATORIOS SENOSIAIN, S.A. DE C.V.                       MEDICAMENTOS   \n",
       "\n",
       "          catalogo  precio            fechaRegistro     cadenaComercial  \\\n",
       "1974       BASICOS    96.0  2011-01-10 00:00:00.000            WAL-MART   \n",
       "1110       BASICOS    34.0  2011-01-10 00:00:00.000  COMERCIAL MEXICANA   \n",
       "232       MERCADOS     8.5  2011-01-10 00:00:00.000  COMERCIAL MEXICANA   \n",
       "135        BASICOS    26.1  2011-01-10 00:00:00.000  COMERCIAL MEXICANA   \n",
       "436   MEDICAMENTOS   147.0  2011-01-10 00:00:00.000  COMERCIAL MEXICANA   \n",
       "\n",
       "                        giro  \\\n",
       "1974  TIENDA DE AUTOSERVICIO   \n",
       "1110  TIENDA DE AUTOSERVICIO   \n",
       "232   TIENDA DE AUTOSERVICIO   \n",
       "135   TIENDA DE AUTOSERVICIO   \n",
       "436   TIENDA DE AUTOSERVICIO   \n",
       "\n",
       "                                        nombreComercial  \\\n",
       "1974                        WAL MART SUCURSAL ECHEGARAY   \n",
       "1110            COMERCIAL MEXICANA SUCURSAL INSURGENTES   \n",
       "232   COMERCIAL MEXICANA SUCURSAL VILLAS DE LA HACIENDA   \n",
       "135   COMERCIAL MEXICANA SUCURSAL VILLAS DE LA HACIENDA   \n",
       "436   COMERCIAL MEXICANA SUCURSAL VILLAS DE LA HACIENDA   \n",
       "\n",
       "                                              direccion            estado  \\\n",
       "1974  EMILIANO ZAPATA NO. 7     ENTRE REFORMA Y CUAU...            MÉXICO   \n",
       "1110               PERPETUA NO. 35 ESQ. INSURGENTES SUR  DISTRITO FEDERAL   \n",
       "232        AV. LAGO DE GUADALUPE S/N ESQ. DE LAS VILLAS            MÉXICO   \n",
       "135        AV. LAGO DE GUADALUPE S/N ESQ. DE LAS VILLAS            MÉXICO   \n",
       "436        AV. LAGO DE GUADALUPE S/N ESQ. DE LAS VILLAS            MÉXICO   \n",
       "\n",
       "                                     municipio    latitud   longitud  \n",
       "1974  NAUCALPAN                                 19.483909 -99.233180  \n",
       "1110  BENITO JUAREZ                             19.366903 -99.181344  \n",
       "232   ATIZAPAN                                        NaN        NaN  \n",
       "135   ATIZAPAN                                        NaN        NaN  \n",
       "436   ATIZAPAN                                        NaN        NaN  "
      ]
     },
     "metadata": {},
     "execution_count": 3
    }
   ],
   "metadata": {}
  },
  {
   "cell_type": "code",
   "execution_count": 4,
   "source": [
    "df.isna().any()"
   ],
   "outputs": [
    {
     "output_type": "execute_result",
     "data": {
      "text/plain": [
       "producto           False\n",
       "presentacion       False\n",
       "marca              False\n",
       "categoria          False\n",
       "catalogo           False\n",
       "precio             False\n",
       "fechaRegistro      False\n",
       "cadenaComercial    False\n",
       "giro               False\n",
       "nombreComercial    False\n",
       "direccion          False\n",
       "estado             False\n",
       "municipio          False\n",
       "latitud             True\n",
       "longitud            True\n",
       "dtype: bool"
      ]
     },
     "metadata": {},
     "execution_count": 4
    }
   ],
   "metadata": {}
  },
  {
   "cell_type": "code",
   "execution_count": 5,
   "source": [
    "df['cadenaComercial'].unique()"
   ],
   "outputs": [
    {
     "output_type": "execute_result",
     "data": {
      "text/plain": [
       "array(['ABASTECEDORA LUMEN', 'COMERCIAL MEXICANA', 'I.S.S.S.T.E.',\n",
       "       'WAL-MART'], dtype=object)"
      ]
     },
     "metadata": {},
     "execution_count": 5
    }
   ],
   "metadata": {}
  },
  {
   "cell_type": "markdown",
   "source": [
    "## How many commercial chains are monitored, and therefore, included in this database?\r\n"
   ],
   "metadata": {}
  },
  {
   "cell_type": "code",
   "execution_count": 6,
   "source": [
    "df['cadenaComercial'].nunique()"
   ],
   "outputs": [
    {
     "output_type": "execute_result",
     "data": {
      "text/plain": [
       "4"
      ]
     },
     "metadata": {},
     "execution_count": 6
    }
   ],
   "metadata": {}
  },
  {
   "cell_type": "markdown",
   "source": [
    "## What are the top 10 monitored products by State?"
   ],
   "metadata": {}
  },
  {
   "cell_type": "code",
   "execution_count": 7,
   "source": [
    "df1 = df.groupby(['estado','producto'],as_index=False)\\\r\n",
    "   .agg({'marca':\"count\"}) \\\r\n",
    "   .sort_values(['estado','marca'],ascending=False) \\\r\n",
    "   .groupby('estado').head(10).rename(columns={'marca':'total'})\r\n",
    "\r\n",
    "df1"
   ],
   "outputs": [
    {
     "output_type": "execute_result",
     "data": {
      "text/html": [
       "<div>\n",
       "<style scoped>\n",
       "    .dataframe tbody tr th:only-of-type {\n",
       "        vertical-align: middle;\n",
       "    }\n",
       "\n",
       "    .dataframe tbody tr th {\n",
       "        vertical-align: top;\n",
       "    }\n",
       "\n",
       "    .dataframe thead th {\n",
       "        text-align: right;\n",
       "    }\n",
       "</style>\n",
       "<table border=\"1\" class=\"dataframe\">\n",
       "  <thead>\n",
       "    <tr style=\"text-align: right;\">\n",
       "      <th></th>\n",
       "      <th>estado</th>\n",
       "      <th>producto</th>\n",
       "      <th>total</th>\n",
       "    </tr>\n",
       "  </thead>\n",
       "  <tbody>\n",
       "    <tr>\n",
       "      <th>491</th>\n",
       "      <td>MÉXICO</td>\n",
       "      <td>REFRESCO</td>\n",
       "      <td>26</td>\n",
       "    </tr>\n",
       "    <tr>\n",
       "      <th>354</th>\n",
       "      <td>MÉXICO</td>\n",
       "      <td>DETERGENTE P/ROPA</td>\n",
       "      <td>24</td>\n",
       "    </tr>\n",
       "    <tr>\n",
       "      <th>508</th>\n",
       "      <td>MÉXICO</td>\n",
       "      <td>SHAMPOO</td>\n",
       "      <td>19</td>\n",
       "    </tr>\n",
       "    <tr>\n",
       "      <th>331</th>\n",
       "      <td>MÉXICO</td>\n",
       "      <td>CHILES EN LATA</td>\n",
       "      <td>18</td>\n",
       "    </tr>\n",
       "    <tr>\n",
       "      <th>422</th>\n",
       "      <td>MÉXICO</td>\n",
       "      <td>LECHE ULTRAPASTEURIZADA</td>\n",
       "      <td>17</td>\n",
       "    </tr>\n",
       "    <tr>\n",
       "      <th>434</th>\n",
       "      <td>MÉXICO</td>\n",
       "      <td>MAYONESA</td>\n",
       "      <td>17</td>\n",
       "    </tr>\n",
       "    <tr>\n",
       "      <th>524</th>\n",
       "      <td>MÉXICO</td>\n",
       "      <td>TOALLA FEMENINA</td>\n",
       "      <td>17</td>\n",
       "    </tr>\n",
       "    <tr>\n",
       "      <th>353</th>\n",
       "      <td>MÉXICO</td>\n",
       "      <td>DESODORANTE</td>\n",
       "      <td>15</td>\n",
       "    </tr>\n",
       "    <tr>\n",
       "      <th>520</th>\n",
       "      <td>MÉXICO</td>\n",
       "      <td>TELEVISORES</td>\n",
       "      <td>15</td>\n",
       "    </tr>\n",
       "    <tr>\n",
       "      <th>539</th>\n",
       "      <td>MÉXICO</td>\n",
       "      <td>YOGHURT</td>\n",
       "      <td>15</td>\n",
       "    </tr>\n",
       "    <tr>\n",
       "      <th>80</th>\n",
       "      <td>DISTRITO FEDERAL</td>\n",
       "      <td>DETERGENTE P/ROPA</td>\n",
       "      <td>25</td>\n",
       "    </tr>\n",
       "    <tr>\n",
       "      <th>142</th>\n",
       "      <td>DISTRITO FEDERAL</td>\n",
       "      <td>LECHE ULTRAPASTEURIZADA</td>\n",
       "      <td>23</td>\n",
       "    </tr>\n",
       "    <tr>\n",
       "      <th>201</th>\n",
       "      <td>DISTRITO FEDERAL</td>\n",
       "      <td>REFRESCO</td>\n",
       "      <td>22</td>\n",
       "    </tr>\n",
       "    <tr>\n",
       "      <th>59</th>\n",
       "      <td>DISTRITO FEDERAL</td>\n",
       "      <td>CHILES EN LATA</td>\n",
       "      <td>21</td>\n",
       "    </tr>\n",
       "    <tr>\n",
       "      <th>155</th>\n",
       "      <td>DISTRITO FEDERAL</td>\n",
       "      <td>MAYONESA</td>\n",
       "      <td>20</td>\n",
       "    </tr>\n",
       "    <tr>\n",
       "      <th>215</th>\n",
       "      <td>DISTRITO FEDERAL</td>\n",
       "      <td>SHAMPOO</td>\n",
       "      <td>18</td>\n",
       "    </tr>\n",
       "    <tr>\n",
       "      <th>222</th>\n",
       "      <td>DISTRITO FEDERAL</td>\n",
       "      <td>TELEVISORES</td>\n",
       "      <td>17</td>\n",
       "    </tr>\n",
       "    <tr>\n",
       "      <th>105</th>\n",
       "      <td>DISTRITO FEDERAL</td>\n",
       "      <td>GALLETAS DULCES</td>\n",
       "      <td>16</td>\n",
       "    </tr>\n",
       "    <tr>\n",
       "      <th>127</th>\n",
       "      <td>DISTRITO FEDERAL</td>\n",
       "      <td>JABON DE TOCADOR</td>\n",
       "      <td>16</td>\n",
       "    </tr>\n",
       "    <tr>\n",
       "      <th>101</th>\n",
       "      <td>DISTRITO FEDERAL</td>\n",
       "      <td>FUD</td>\n",
       "      <td>14</td>\n",
       "    </tr>\n",
       "  </tbody>\n",
       "</table>\n",
       "</div>"
      ],
      "text/plain": [
       "               estado                 producto  total\n",
       "491            MÉXICO                 REFRESCO     26\n",
       "354            MÉXICO        DETERGENTE P/ROPA     24\n",
       "508            MÉXICO                  SHAMPOO     19\n",
       "331            MÉXICO           CHILES EN LATA     18\n",
       "422            MÉXICO  LECHE ULTRAPASTEURIZADA     17\n",
       "434            MÉXICO                 MAYONESA     17\n",
       "524            MÉXICO          TOALLA FEMENINA     17\n",
       "353            MÉXICO              DESODORANTE     15\n",
       "520            MÉXICO              TELEVISORES     15\n",
       "539            MÉXICO                  YOGHURT     15\n",
       "80   DISTRITO FEDERAL        DETERGENTE P/ROPA     25\n",
       "142  DISTRITO FEDERAL  LECHE ULTRAPASTEURIZADA     23\n",
       "201  DISTRITO FEDERAL                 REFRESCO     22\n",
       "59   DISTRITO FEDERAL           CHILES EN LATA     21\n",
       "155  DISTRITO FEDERAL                 MAYONESA     20\n",
       "215  DISTRITO FEDERAL                  SHAMPOO     18\n",
       "222  DISTRITO FEDERAL              TELEVISORES     17\n",
       "105  DISTRITO FEDERAL          GALLETAS DULCES     16\n",
       "127  DISTRITO FEDERAL         JABON DE TOCADOR     16\n",
       "101  DISTRITO FEDERAL                      FUD     14"
      ]
     },
     "metadata": {},
     "execution_count": 7
    }
   ],
   "metadata": {}
  },
  {
   "cell_type": "markdown",
   "source": [
    "## Which is the commercial chain with the highest number of monitored products?"
   ],
   "metadata": {}
  },
  {
   "cell_type": "code",
   "execution_count": 8,
   "source": [
    "df[['cadenaComercial','producto']].groupby('cadenaComercial', as_index = False)\\\r\n",
    "                                  .count() \\\r\n",
    "                                  .sort_values('producto',ascending=False).head(1)"
   ],
   "outputs": [
    {
     "output_type": "execute_result",
     "data": {
      "text/html": [
       "<div>\n",
       "<style scoped>\n",
       "    .dataframe tbody tr th:only-of-type {\n",
       "        vertical-align: middle;\n",
       "    }\n",
       "\n",
       "    .dataframe tbody tr th {\n",
       "        vertical-align: top;\n",
       "    }\n",
       "\n",
       "    .dataframe thead th {\n",
       "        text-align: right;\n",
       "    }\n",
       "</style>\n",
       "<table border=\"1\" class=\"dataframe\">\n",
       "  <thead>\n",
       "    <tr style=\"text-align: right;\">\n",
       "      <th></th>\n",
       "      <th>cadenaComercial</th>\n",
       "      <th>producto</th>\n",
       "    </tr>\n",
       "  </thead>\n",
       "  <tbody>\n",
       "    <tr>\n",
       "      <th>1</th>\n",
       "      <td>COMERCIAL MEXICANA</td>\n",
       "      <td>1508</td>\n",
       "    </tr>\n",
       "  </tbody>\n",
       "</table>\n",
       "</div>"
      ],
      "text/plain": [
       "      cadenaComercial  producto\n",
       "1  COMERCIAL MEXICANA      1508"
      ]
     },
     "metadata": {},
     "execution_count": 8
    }
   ],
   "metadata": {}
  },
  {
   "cell_type": "markdown",
   "source": [
    "## Use the data to find an interesting fact."
   ],
   "metadata": {}
  },
  {
   "cell_type": "code",
   "execution_count": 9,
   "source": [
    "top_6_Products =  df1['producto'].head(6).to_list()\r\n",
    "top_6_Products"
   ],
   "outputs": [
    {
     "output_type": "execute_result",
     "data": {
      "text/plain": [
       "['REFRESCO',\n",
       " 'DETERGENTE P/ROPA',\n",
       " 'SHAMPOO',\n",
       " 'CHILES EN LATA',\n",
       " 'LECHE ULTRAPASTEURIZADA',\n",
       " 'MAYONESA']"
      ]
     },
     "metadata": {},
     "execution_count": 9
    }
   ],
   "metadata": {}
  },
  {
   "cell_type": "code",
   "execution_count": 10,
   "source": [
    "df4 =  df[['precio','producto','estado']][df['producto'].isin(top_6_Products)].groupby(['producto','estado']).mean()\r\n",
    "df4"
   ],
   "outputs": [
    {
     "output_type": "execute_result",
     "data": {
      "text/html": [
       "<div>\n",
       "<style scoped>\n",
       "    .dataframe tbody tr th:only-of-type {\n",
       "        vertical-align: middle;\n",
       "    }\n",
       "\n",
       "    .dataframe tbody tr th {\n",
       "        vertical-align: top;\n",
       "    }\n",
       "\n",
       "    .dataframe thead th {\n",
       "        text-align: right;\n",
       "    }\n",
       "</style>\n",
       "<table border=\"1\" class=\"dataframe\">\n",
       "  <thead>\n",
       "    <tr style=\"text-align: right;\">\n",
       "      <th></th>\n",
       "      <th></th>\n",
       "      <th>precio</th>\n",
       "    </tr>\n",
       "    <tr>\n",
       "      <th>producto</th>\n",
       "      <th>estado</th>\n",
       "      <th></th>\n",
       "    </tr>\n",
       "  </thead>\n",
       "  <tbody>\n",
       "    <tr>\n",
       "      <th rowspan=\"2\" valign=\"top\">CHILES EN LATA</th>\n",
       "      <th>DISTRITO FEDERAL</th>\n",
       "      <td>6.912381</td>\n",
       "    </tr>\n",
       "    <tr>\n",
       "      <th>MÉXICO</th>\n",
       "      <td>7.620000</td>\n",
       "    </tr>\n",
       "    <tr>\n",
       "      <th rowspan=\"2\" valign=\"top\">DETERGENTE P/ROPA</th>\n",
       "      <th>DISTRITO FEDERAL</th>\n",
       "      <td>36.917200</td>\n",
       "    </tr>\n",
       "    <tr>\n",
       "      <th>MÉXICO</th>\n",
       "      <td>39.182500</td>\n",
       "    </tr>\n",
       "    <tr>\n",
       "      <th rowspan=\"2\" valign=\"top\">LECHE ULTRAPASTEURIZADA</th>\n",
       "      <th>DISTRITO FEDERAL</th>\n",
       "      <td>12.693478</td>\n",
       "    </tr>\n",
       "    <tr>\n",
       "      <th>MÉXICO</th>\n",
       "      <td>12.400000</td>\n",
       "    </tr>\n",
       "    <tr>\n",
       "      <th rowspan=\"2\" valign=\"top\">MAYONESA</th>\n",
       "      <th>DISTRITO FEDERAL</th>\n",
       "      <td>20.761000</td>\n",
       "    </tr>\n",
       "    <tr>\n",
       "      <th>MÉXICO</th>\n",
       "      <td>19.871176</td>\n",
       "    </tr>\n",
       "    <tr>\n",
       "      <th rowspan=\"2\" valign=\"top\">REFRESCO</th>\n",
       "      <th>DISTRITO FEDERAL</th>\n",
       "      <td>13.004091</td>\n",
       "    </tr>\n",
       "    <tr>\n",
       "      <th>MÉXICO</th>\n",
       "      <td>13.544231</td>\n",
       "    </tr>\n",
       "    <tr>\n",
       "      <th rowspan=\"2\" valign=\"top\">SHAMPOO</th>\n",
       "      <th>DISTRITO FEDERAL</th>\n",
       "      <td>37.097778</td>\n",
       "    </tr>\n",
       "    <tr>\n",
       "      <th>MÉXICO</th>\n",
       "      <td>35.905263</td>\n",
       "    </tr>\n",
       "  </tbody>\n",
       "</table>\n",
       "</div>"
      ],
      "text/plain": [
       "                                             precio\n",
       "producto                estado                     \n",
       "CHILES EN LATA          DISTRITO FEDERAL   6.912381\n",
       "                        MÉXICO             7.620000\n",
       "DETERGENTE P/ROPA       DISTRITO FEDERAL  36.917200\n",
       "                        MÉXICO            39.182500\n",
       "LECHE ULTRAPASTEURIZADA DISTRITO FEDERAL  12.693478\n",
       "                        MÉXICO            12.400000\n",
       "MAYONESA                DISTRITO FEDERAL  20.761000\n",
       "                        MÉXICO            19.871176\n",
       "REFRESCO                DISTRITO FEDERAL  13.004091\n",
       "                        MÉXICO            13.544231\n",
       "SHAMPOO                 DISTRITO FEDERAL  37.097778\n",
       "                        MÉXICO            35.905263"
      ]
     },
     "metadata": {},
     "execution_count": 10
    }
   ],
   "metadata": {}
  },
  {
   "cell_type": "code",
   "execution_count": 11,
   "source": [
    "df5 = df4.unstack(1)['precio']\r\n",
    "(df5['MÉXICO'] -  df5['DISTRITO FEDERAL'] ).mean()"
   ],
   "outputs": [
    {
     "output_type": "execute_result",
     "data": {
      "text/plain": [
       "0.18954041626575466"
      ]
     },
     "metadata": {},
     "execution_count": 11
    }
   ],
   "metadata": {}
  }
 ],
 "metadata": {
  "orig_nbformat": 4,
  "language_info": {
   "name": "python",
   "version": "3.9.7",
   "mimetype": "text/x-python",
   "codemirror_mode": {
    "name": "ipython",
    "version": 3
   },
   "pygments_lexer": "ipython3",
   "nbconvert_exporter": "python",
   "file_extension": ".py"
  },
  "kernelspec": {
   "name": "python3",
   "display_name": "Python 3.9.7 64-bit"
  },
  "interpreter": {
   "hash": "fe44fef87f92f48a3a32707d0df204585f471652bc0ce87358a3ce712bc24db0"
  }
 },
 "nbformat": 4,
 "nbformat_minor": 2
}